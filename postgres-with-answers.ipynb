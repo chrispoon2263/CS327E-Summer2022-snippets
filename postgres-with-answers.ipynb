{
 "cells": [
  {
   "cell_type": "markdown",
   "metadata": {},
   "source": [
    "### 1) Set environment variables"
   ]
  },
  {
   "cell_type": "code",
   "execution_count": 22,
   "metadata": {},
   "outputs": [
    {
     "name": "stdout",
     "output_type": "stream",
     "text": [
      "env: PGINSTANCE=pg\n"
     ]
    }
   ],
   "source": [
    "%env PGINSTANCE=pg"
   ]
  },
  {
   "cell_type": "code",
   "execution_count": 23,
   "metadata": {},
   "outputs": [
    {
     "name": "stdout",
     "output_type": "stream",
     "text": [
      "env: BASE_DIR=/home/jupyter/prep\n"
     ]
    }
   ],
   "source": [
    "%env BASE_DIR=/home/jupyter/prep"
   ]
  },
  {
   "cell_type": "markdown",
   "metadata": {},
   "source": [
    "### 2) Download the college dataset"
   ]
  },
  {
   "cell_type": "code",
   "execution_count": 24,
   "metadata": {},
   "outputs": [
    {
     "name": "stdout",
     "output_type": "stream",
     "text": [
      "Copying gs://cs327e-open-access/postgres_college.zip...\n",
      "/ [1 files][  2.0 KiB/  2.0 KiB]                                                \n",
      "Operation completed over 1 objects/2.0 KiB.                                      \n"
     ]
    }
   ],
   "source": [
    "!gsutil cp gs://cs327e-open-access/postgres_college.zip $BASE_DIR"
   ]
  },
  {
   "cell_type": "code",
   "execution_count": 25,
   "metadata": {},
   "outputs": [
    {
     "name": "stdout",
     "output_type": "stream",
     "text": [
      "Archive:  /home/jupyter/prep/postgres_college.zip\n",
      "  inflating: postgres_college/class.csv  \n",
      "  inflating: postgres_college/create_postgres_tables.sql  \n",
      "  inflating: postgres_college/instructor.csv  \n",
      "  inflating: postgres_college/student.csv  \n",
      "  inflating: postgres_college/teaches.csv  \n"
     ]
    }
   ],
   "source": [
    "!unzip $BASE_DIR/postgres_college.zip"
   ]
  },
  {
   "cell_type": "markdown",
   "metadata": {},
   "source": [
    "### 3) Create the college tables"
   ]
  },
  {
   "cell_type": "code",
   "execution_count": 26,
   "metadata": {},
   "outputs": [
    {
     "name": "stdout",
     "output_type": "stream",
     "text": [
      "psql:/home/jupyter/prep/postgres_college/create_postgres_tables.sql:1: NOTICE:  drop cascades to 4 other objects\n",
      "DETAIL:  drop cascades to table college.class\n",
      "drop cascades to table college.instructor\n",
      "drop cascades to table college.student\n",
      "drop cascades to table college.teaches\n",
      "DROP SCHEMA\n",
      "CREATE SCHEMA\n",
      "SET\n",
      "CREATE TABLE\n",
      "CREATE TABLE\n",
      "CREATE TABLE\n",
      "CREATE TABLE\n"
     ]
    }
   ],
   "source": [
    "!psql -c \"\\i $BASE_DIR/postgres_college/create_postgres_tables.sql\""
   ]
  },
  {
   "cell_type": "markdown",
   "metadata": {},
   "source": [
    "### 4) Describe the tables"
   ]
  },
  {
   "cell_type": "code",
   "execution_count": 27,
   "metadata": {},
   "outputs": [
    {
     "name": "stdout",
     "output_type": "stream",
     "text": [
      "                       Table \"college.class\"\n",
      " Column  |          Type          | Collation | Nullable | Default \n",
      "---------+------------------------+-----------+----------+---------\n",
      " sid     | character varying(10)  |           |          | \n",
      " cno     | character(6)           |           |          | \n",
      " cname   | character varying(200) |           |          | \n",
      " credits | integer                |           |          | \n",
      " grade   | character(2)           |           |          | \n",
      "\n"
     ]
    }
   ],
   "source": [
    "!psql -c \"\\d college.Class\""
   ]
  },
  {
   "cell_type": "code",
   "execution_count": 28,
   "metadata": {},
   "outputs": [
    {
     "name": "stdout",
     "output_type": "stream",
     "text": [
      "                     Table \"college.student\"\n",
      " Column |          Type          | Collation | Nullable | Default \n",
      "--------+------------------------+-----------+----------+---------\n",
      " sid    | character varying(10)  |           |          | \n",
      " fname  | character varying(200) |           |          | \n",
      " lname  | character varying(200) |           |          | \n",
      " dob    | character varying(20)  |           |          | \n",
      " status | character(3)           |           |          | \n",
      "\n"
     ]
    }
   ],
   "source": [
    "!psql -c \"\\d college.Student\""
   ]
  },
  {
   "cell_type": "code",
   "execution_count": 29,
   "metadata": {},
   "outputs": [
    {
     "name": "stdout",
     "output_type": "stream",
     "text": [
      "                   Table \"college.instructor\"\n",
      " Column |         Type          | Collation | Nullable | Default \n",
      "--------+-----------------------+-----------+----------+---------\n",
      " tid    | character varying(10) |           |          | \n",
      " name   | character varying(50) |           |          | \n",
      " dept   | character varying(50) |           |          | \n",
      "\n"
     ]
    }
   ],
   "source": [
    "!psql -c \"\\d college.Instructor\""
   ]
  },
  {
   "cell_type": "code",
   "execution_count": 30,
   "metadata": {},
   "outputs": [
    {
     "name": "stdout",
     "output_type": "stream",
     "text": [
      "                     Table \"college.teaches\"\n",
      " Column |         Type          | Collation | Nullable | Default \n",
      "--------+-----------------------+-----------+----------+---------\n",
      " tid    | character varying(10) |           |          | \n",
      " cno    | character(6)          |           |          | \n",
      "\n"
     ]
    }
   ],
   "source": [
    "!psql -c \"\\d college.Teaches\""
   ]
  },
  {
   "cell_type": "markdown",
   "metadata": {},
   "source": [
    "### 5) Populate the tables"
   ]
  },
  {
   "cell_type": "code",
   "execution_count": 31,
   "metadata": {},
   "outputs": [
    {
     "name": "stdout",
     "output_type": "stream",
     "text": [
      "Importing data into Cloud SQL instance...done.                                 \n",
      "Imported data from [gs://cs327e-open-access/postgres_college/class.csv] into [https://sqladmin.googleapis.com/sql/v1beta4/projects/cs327e-sp2022/instances/pg].\n"
     ]
    }
   ],
   "source": [
    "!gcloud sql import csv $PGINSTANCE gs://cs327e-open-access/postgres_college/class.csv --database=postgres --table=college.Class --quiet"
   ]
  },
  {
   "cell_type": "code",
   "execution_count": 32,
   "metadata": {},
   "outputs": [
    {
     "name": "stdout",
     "output_type": "stream",
     "text": [
      "Importing data into Cloud SQL instance...done.                                 \n",
      "Imported data from [gs://cs327e-open-access/postgres_college/student.csv] into [https://sqladmin.googleapis.com/sql/v1beta4/projects/cs327e-sp2022/instances/pg].\n"
     ]
    }
   ],
   "source": [
    "!gcloud sql import csv $PGINSTANCE gs://cs327e-open-access/postgres_college/student.csv --database=postgres --table=college.Student --quiet"
   ]
  },
  {
   "cell_type": "code",
   "execution_count": 33,
   "metadata": {},
   "outputs": [
    {
     "name": "stdout",
     "output_type": "stream",
     "text": [
      "Importing data into Cloud SQL instance...done.                                 \n",
      "Imported data from [gs://cs327e-open-access/postgres_college/instructor.csv] into [https://sqladmin.googleapis.com/sql/v1beta4/projects/cs327e-sp2022/instances/pg].\n"
     ]
    }
   ],
   "source": [
    "!gcloud sql import csv $PGINSTANCE gs://cs327e-open-access/postgres_college/instructor.csv --database=postgres --table=college.Instructor --quiet"
   ]
  },
  {
   "cell_type": "code",
   "execution_count": 34,
   "metadata": {},
   "outputs": [
    {
     "name": "stdout",
     "output_type": "stream",
     "text": [
      "Importing data into Cloud SQL instance...done.                                 \n",
      "Imported data from [gs://cs327e-open-access/postgres_college/teaches.csv] into [https://sqladmin.googleapis.com/sql/v1beta4/projects/cs327e-sp2022/instances/pg].\n"
     ]
    }
   ],
   "source": [
    "!gcloud sql import csv $PGINSTANCE gs://cs327e-open-access/postgres_college/teaches.csv --database=postgres --table=college.Teaches --quiet"
   ]
  },
  {
   "cell_type": "markdown",
   "metadata": {
    "tags": []
   },
   "source": [
    "### 6) Sample the tables"
   ]
  },
  {
   "cell_type": "code",
   "execution_count": 35,
   "metadata": {},
   "outputs": [
    {
     "name": "stdout",
     "output_type": "stream",
     "text": [
      "   sid    |  cno   |              cname               | credits | grade \n",
      "----------+--------+----------------------------------+---------+-------\n",
      " kev18    | CS329E | Elements of Web Programming      |       3 | \n",
      " jc       | CS327E | Elements of Databases            |       3 | \n",
      " bzen26   | CS330E | Elements of Software Engineering |       3 | B+\n",
      " paulg    | CS313E | Elements of Software Design      |       3 | \n",
      " jc       | CS330E | Elements of Software Engineering |       3 | \n",
      " jc       | CS313E | Elements of Software Design      |       3 | \n",
      " paulg    | CS326E | Elements of Networking           |       3 | A-\n",
      " jerryh   | CS329E | Elements of Web Programming      |       3 | A-\n",
      " jerryh   | CS327E | Elements of Databases            |       3 | B \n",
      " paulg    | CS329E | Elements of Web Programming      |       3 | A \n",
      " aprilz   | CS373  | Software Engineering             |       3 | \n",
      " aprilz   | M358K  | Applied Statistics               |       3 | \n",
      " kev18    | CS347  | Data Management                  |       3 | \n",
      " kev18    | M362K  | Probability I                    |       3 | \n",
      " sudeepa4 | M328K  | Intro to Number Theory           |       3 | \n",
      "(15 rows)\n",
      "\n"
     ]
    }
   ],
   "source": [
    "!psql -c \"select * from college.Class limit 15\""
   ]
  },
  {
   "cell_type": "code",
   "execution_count": 36,
   "metadata": {},
   "outputs": [
    {
     "name": "stdout",
     "output_type": "stream",
     "text": [
      "   sid   | fname  |  lname   |     dob     | status \n",
      "---------+--------+----------+-------------+--------\n",
      " kev18   | Kevin  | Lin      | May-10-1999 | CUR\n",
      " natea   | Nathan | Anderson | Apr-04-2000 | PRO\n",
      " kgomez9 | Katie  | Gomez    | 2001-03-03  | PRO\n",
      " jerryh  | Jerry  | Hargrove | 1999-01-03  | CUR\n",
      " jc      | James  | Cowe     | 2000-04-22  | CUR\n",
      " dchen   | David  | Chen     | 08/22/2000  | PRO\n",
      " ryan22  | Ryan   | Watson   | 07/11/2000  | PRO\n",
      " paulg   | Paul   | Gore     | 09/17/2000  | CUR\n",
      " aprilz  | April  | Lopez    | 01/10/2000  | CUR\n",
      " nitinm  | Nitin  | Mogal    | 07/31/1999  | PRO\n",
      " bzen26  | Biswa  | Zen      | 04/22/1998  | CUR\n",
      "(11 rows)\n",
      "\n"
     ]
    }
   ],
   "source": [
    "!psql -c \"select * from college.Student limit 12\""
   ]
  },
  {
   "cell_type": "code",
   "execution_count": 37,
   "metadata": {},
   "outputs": [
    {
     "name": "stdout",
     "output_type": "stream",
     "text": [
      "   tid   |      name      |       dept       \n",
      "---------+----------------+------------------\n",
      " scohen  | Shirley Cohen  | Computer Science\n",
      " neeman  | Neeman, Joe    | Mathematics\n",
      " bulko   | Bulko, Bill    | Computer Science\n",
      " fares   | Fraij, Fares   | Computer Science\n",
      " koch    | Hans Koch      | Mathematics\n",
      " cannata | Cannata, Phil  | Computer Science\n",
      " downing | Downing, Glenn | Computer Science\n",
      " mueller | Peter Mueller  | Mathematics\n",
      " tran    | Ngoc Tran      | Mathematics\n",
      " mitra   | Shyamal Mitra  | Computer Science\n",
      "(10 rows)\n",
      "\n"
     ]
    }
   ],
   "source": [
    "!psql -c \"select * from college.Instructor limit 12\""
   ]
  },
  {
   "cell_type": "code",
   "execution_count": 38,
   "metadata": {},
   "outputs": [
    {
     "name": "stdout",
     "output_type": "stream",
     "text": [
      "   tid   |  cno   \n",
      "---------+--------\n",
      " neeman  | M362K \n",
      " mitra   | CS329E\n",
      " fares   | CS331E\n",
      " downing | CS373 \n",
      " mitra   | CS313E\n",
      " mueller | M362K \n",
      " cannata | CS326E\n",
      " tran    | M358K \n",
      " koch    | M328K \n",
      " bulko   | CS303E\n",
      " scohen  | CS327E\n",
      " cannata | CS347 \n",
      "(12 rows)\n",
      "\n"
     ]
    }
   ],
   "source": [
    "!psql -c \"select * from college.Teaches limit 12\""
   ]
  },
  {
   "cell_type": "markdown",
   "metadata": {},
   "source": [
    "#### Switch to design slides (slides 5 and 6)"
   ]
  },
  {
   "cell_type": "markdown",
   "metadata": {},
   "source": [
    "### 7) Create the Primary Keys"
   ]
  },
  {
   "cell_type": "code",
   "execution_count": 39,
   "metadata": {},
   "outputs": [
    {
     "name": "stdout",
     "output_type": "stream",
     "text": [
      "ALTER TABLE\n"
     ]
    }
   ],
   "source": [
    "!psql -c \"alter table college.Class add primary key (sid, cno)\""
   ]
  },
  {
   "cell_type": "code",
   "execution_count": 40,
   "metadata": {},
   "outputs": [
    {
     "name": "stdout",
     "output_type": "stream",
     "text": [
      "ALTER TABLE\n"
     ]
    }
   ],
   "source": [
    "!psql -c \"alter table college.Student add primary key (sid)\""
   ]
  },
  {
   "cell_type": "code",
   "execution_count": 41,
   "metadata": {},
   "outputs": [
    {
     "name": "stdout",
     "output_type": "stream",
     "text": [
      "ALTER TABLE\n"
     ]
    }
   ],
   "source": [
    "!psql -c \"alter table college.Instructor add primary key (tid)\""
   ]
  },
  {
   "cell_type": "code",
   "execution_count": 42,
   "metadata": {},
   "outputs": [
    {
     "name": "stdout",
     "output_type": "stream",
     "text": [
      "ALTER TABLE\n"
     ]
    }
   ],
   "source": [
    "!psql -c \"alter table college.Teaches add primary key (tid, cno)\""
   ]
  },
  {
   "cell_type": "markdown",
   "metadata": {},
   "source": [
    "### 8) Create the Foreign Keys"
   ]
  },
  {
   "cell_type": "code",
   "execution_count": 45,
   "metadata": {},
   "outputs": [
    {
     "name": "stdout",
     "output_type": "stream",
     "text": [
      "ALTER TABLE\n"
     ]
    }
   ],
   "source": [
    "!psql -c \"alter table college.Teaches add foreign key (tid) references college.Instructor (tid)\""
   ]
  },
  {
   "cell_type": "code",
   "execution_count": 46,
   "metadata": {},
   "outputs": [
    {
     "name": "stdout",
     "output_type": "stream",
     "text": [
      "ERROR:  insert or update on table \"class\" violates foreign key constraint \"class_sid_fkey\"\n",
      "DETAIL:  Key (sid)=(sudeepa4) is not present in table \"student\".\n"
     ]
    }
   ],
   "source": [
    "!psql -c \"alter table college.Class add foreign key (sid) references college.Student (sid)\""
   ]
  },
  {
   "cell_type": "code",
   "execution_count": 47,
   "metadata": {},
   "outputs": [
    {
     "name": "stdout",
     "output_type": "stream",
     "text": [
      "ERROR:  there is no unique constraint matching given keys for referenced table \"class\"\n"
     ]
    }
   ],
   "source": [
    "!psql -c \"alter table college.Teaches add foreign key (cno) references college.Class (cno)\""
   ]
  },
  {
   "cell_type": "markdown",
   "metadata": {},
   "source": [
    "#### Switch to modeling slides (slide 7-9)"
   ]
  },
  {
   "cell_type": "markdown",
   "metadata": {},
   "source": [
    "### Prompt 1: Redesign the Class table such that it conforms to our new data model"
   ]
  },
  {
   "cell_type": "code",
   "execution_count": 48,
   "metadata": {},
   "outputs": [
    {
     "name": "stdout",
     "output_type": "stream",
     "text": [
      "SELECT 11\n"
     ]
    }
   ],
   "source": [
    "!psql -c \"create table college.Class2 as select distinct cno, cname, credits from college.Class order by cno\""
   ]
  },
  {
   "cell_type": "code",
   "execution_count": 49,
   "metadata": {},
   "outputs": [
    {
     "name": "stdout",
     "output_type": "stream",
     "text": [
      "  cno   |                 cname                 | credits \n",
      "--------+---------------------------------------+---------\n",
      " CS303E | Elements of Computers and Programming |       3\n",
      " CS313E | Elements of Software Design           |       3\n",
      " CS326E | Elements of Networking                |       3\n",
      " CS327E | Elements of Databases                 |       3\n",
      " CS329E | Elements of Web Programming           |       3\n",
      " CS330E | Elements of Software Engineering      |       3\n",
      " CS347  | Data Management                       |       3\n",
      " CS373  | Software Engineering                  |       3\n",
      " M328K  | Intro to Number Theory                |       3\n",
      " M358K  | Applied Statistics                    |       3\n",
      " M362K  | Probability I                         |       3\n",
      "(11 rows)\n",
      "\n"
     ]
    }
   ],
   "source": [
    "!psql -c \"select * from college.Class2\""
   ]
  },
  {
   "cell_type": "markdown",
   "metadata": {},
   "source": [
    "### Prompt 2: Create the Takes table such that it conforms to our new data model"
   ]
  },
  {
   "cell_type": "code",
   "execution_count": 50,
   "metadata": {},
   "outputs": [
    {
     "name": "stdout",
     "output_type": "stream",
     "text": [
      "SELECT 16\n"
     ]
    }
   ],
   "source": [
    "!psql -c \"create table college.Takes as select sid, cno, grade from college.Class\""
   ]
  },
  {
   "cell_type": "markdown",
   "metadata": {},
   "source": [
    "### Prompt 3: Drop old Class table and rename new Class table"
   ]
  },
  {
   "cell_type": "markdown",
   "metadata": {},
   "source": [
    "##### To drop a table, use the `drop table T1` command (where `T1` is the name of a table). \n",
    "##### To rename a table, use the `alter table T1 rename to T2` command (where `T1` is the current table name and `T2` is the new table name)"
   ]
  },
  {
   "cell_type": "code",
   "execution_count": 51,
   "metadata": {},
   "outputs": [
    {
     "name": "stdout",
     "output_type": "stream",
     "text": [
      "DROP TABLE\n"
     ]
    }
   ],
   "source": [
    "!psql -c \"drop table college.Class\""
   ]
  },
  {
   "cell_type": "code",
   "execution_count": 52,
   "metadata": {},
   "outputs": [
    {
     "name": "stdout",
     "output_type": "stream",
     "text": [
      "ALTER TABLE\n"
     ]
    }
   ],
   "source": [
    "!psql -c \"alter table college.Class2 rename to Class\""
   ]
  },
  {
   "cell_type": "markdown",
   "metadata": {},
   "source": [
    "### Prompt 4: Create a Primary Key on the Class and Takes tables"
   ]
  },
  {
   "cell_type": "code",
   "execution_count": 53,
   "metadata": {},
   "outputs": [
    {
     "name": "stdout",
     "output_type": "stream",
     "text": [
      "ALTER TABLE\n"
     ]
    }
   ],
   "source": [
    "!psql -c \"alter table college.Class add primary key (cno)\""
   ]
  },
  {
   "cell_type": "code",
   "execution_count": 54,
   "metadata": {},
   "outputs": [
    {
     "name": "stdout",
     "output_type": "stream",
     "text": [
      "ALTER TABLE\n"
     ]
    }
   ],
   "source": [
    "!psql -c \"alter table college.Takes add primary key (sid, cno)\""
   ]
  },
  {
   "cell_type": "markdown",
   "metadata": {},
   "source": [
    "### Prompt 5: Create the missing Foreign Keys"
   ]
  },
  {
   "cell_type": "markdown",
   "metadata": {},
   "source": [
    "#### Hint: either add the missing records to Class and Student or delete the extra records from Takes and Teaches before creating the FKs on those tables."
   ]
  },
  {
   "cell_type": "code",
   "execution_count": 55,
   "metadata": {},
   "outputs": [
    {
     "name": "stdout",
     "output_type": "stream",
     "text": [
      "INSERT 0 1\n"
     ]
    }
   ],
   "source": [
    "!psql -c \"insert into college.Student (sid, fname, lname, dob, status) values ('sudeepa4', 'Sudeepa', 'Roy', '2002-02-11', 'CUR')\""
   ]
  },
  {
   "cell_type": "code",
   "execution_count": 56,
   "metadata": {},
   "outputs": [
    {
     "name": "stdout",
     "output_type": "stream",
     "text": [
      "ALTER TABLE\n"
     ]
    }
   ],
   "source": [
    "!psql -c \"alter table college.Takes add foreign key (sid) references college.Student (sid)\""
   ]
  },
  {
   "cell_type": "code",
   "execution_count": 57,
   "metadata": {},
   "outputs": [
    {
     "name": "stdout",
     "output_type": "stream",
     "text": [
      "ALTER TABLE\n"
     ]
    }
   ],
   "source": [
    "!psql -c \"alter table college.Takes add foreign key (cno) references college.Class (cno)\""
   ]
  },
  {
   "cell_type": "code",
   "execution_count": 58,
   "metadata": {},
   "outputs": [
    {
     "name": "stdout",
     "output_type": "stream",
     "text": [
      "INSERT 0 1\n"
     ]
    }
   ],
   "source": [
    "!psql -c \"insert into college.Class (cno, cname, credits) values ('CS331E', 'Elements of Mobile Computing', 3)\""
   ]
  },
  {
   "cell_type": "code",
   "execution_count": 59,
   "metadata": {},
   "outputs": [
    {
     "name": "stdout",
     "output_type": "stream",
     "text": [
      "ALTER TABLE\n"
     ]
    }
   ],
   "source": [
    "!psql -c \"alter table college.Teaches add foreign key (cno) references college.Class (cno)\""
   ]
  },
  {
   "cell_type": "markdown",
   "metadata": {},
   "source": [
    "### Prompt 6: Describe final tables"
   ]
  },
  {
   "cell_type": "code",
   "execution_count": 60,
   "metadata": {},
   "outputs": [
    {
     "name": "stdout",
     "output_type": "stream",
     "text": [
      "                     Table \"college.student\"\n",
      " Column |          Type          | Collation | Nullable | Default \n",
      "--------+------------------------+-----------+----------+---------\n",
      " sid    | character varying(10)  |           | not null | \n",
      " fname  | character varying(200) |           |          | \n",
      " lname  | character varying(200) |           |          | \n",
      " dob    | character varying(20)  |           |          | \n",
      " status | character(3)           |           |          | \n",
      "Indexes:\n",
      "    \"student_pkey\" PRIMARY KEY, btree (sid)\n",
      "Referenced by:\n",
      "    TABLE \"college.takes\" CONSTRAINT \"takes_sid_fkey\" FOREIGN KEY (sid) REFERENCES college.student(sid)\n",
      "\n"
     ]
    }
   ],
   "source": [
    "!psql -c \"\\d college.Student\""
   ]
  },
  {
   "cell_type": "code",
   "execution_count": 61,
   "metadata": {},
   "outputs": [
    {
     "name": "stdout",
     "output_type": "stream",
     "text": [
      "                       Table \"college.class\"\n",
      " Column  |          Type          | Collation | Nullable | Default \n",
      "---------+------------------------+-----------+----------+---------\n",
      " cno     | character(6)           |           | not null | \n",
      " cname   | character varying(200) |           |          | \n",
      " credits | integer                |           |          | \n",
      "Indexes:\n",
      "    \"class_pkey\" PRIMARY KEY, btree (cno)\n",
      "Referenced by:\n",
      "    TABLE \"college.takes\" CONSTRAINT \"takes_cno_fkey\" FOREIGN KEY (cno) REFERENCES college.class(cno)\n",
      "    TABLE \"college.teaches\" CONSTRAINT \"teaches_cno_fkey\" FOREIGN KEY (cno) REFERENCES college.class(cno)\n",
      "\n"
     ]
    }
   ],
   "source": [
    "!psql -c \"\\d college.Class\""
   ]
  },
  {
   "cell_type": "code",
   "execution_count": 62,
   "metadata": {},
   "outputs": [
    {
     "name": "stdout",
     "output_type": "stream",
     "text": [
      "                      Table \"college.takes\"\n",
      " Column |         Type          | Collation | Nullable | Default \n",
      "--------+-----------------------+-----------+----------+---------\n",
      " sid    | character varying(10) |           | not null | \n",
      " cno    | character(6)          |           | not null | \n",
      " grade  | character(2)          |           |          | \n",
      "Indexes:\n",
      "    \"takes_pkey\" PRIMARY KEY, btree (sid, cno)\n",
      "Foreign-key constraints:\n",
      "    \"takes_cno_fkey\" FOREIGN KEY (cno) REFERENCES college.class(cno)\n",
      "    \"takes_sid_fkey\" FOREIGN KEY (sid) REFERENCES college.student(sid)\n",
      "\n"
     ]
    }
   ],
   "source": [
    "!psql -c \"\\d college.Takes\""
   ]
  },
  {
   "cell_type": "code",
   "execution_count": 63,
   "metadata": {},
   "outputs": [
    {
     "name": "stdout",
     "output_type": "stream",
     "text": [
      "                   Table \"college.instructor\"\n",
      " Column |         Type          | Collation | Nullable | Default \n",
      "--------+-----------------------+-----------+----------+---------\n",
      " tid    | character varying(10) |           | not null | \n",
      " name   | character varying(50) |           |          | \n",
      " dept   | character varying(50) |           |          | \n",
      "Indexes:\n",
      "    \"instructor_pkey\" PRIMARY KEY, btree (tid)\n",
      "Referenced by:\n",
      "    TABLE \"college.teaches\" CONSTRAINT \"teaches_tid_fkey\" FOREIGN KEY (tid) REFERENCES college.instructor(tid)\n",
      "\n"
     ]
    }
   ],
   "source": [
    "!psql -c \"\\d college.Instructor\""
   ]
  },
  {
   "cell_type": "code",
   "execution_count": 64,
   "metadata": {},
   "outputs": [
    {
     "name": "stdout",
     "output_type": "stream",
     "text": [
      "                     Table \"college.teaches\"\n",
      " Column |         Type          | Collation | Nullable | Default \n",
      "--------+-----------------------+-----------+----------+---------\n",
      " tid    | character varying(10) |           | not null | \n",
      " cno    | character(6)          |           | not null | \n",
      "Indexes:\n",
      "    \"teaches_pkey\" PRIMARY KEY, btree (tid, cno)\n",
      "Foreign-key constraints:\n",
      "    \"teaches_cno_fkey\" FOREIGN KEY (cno) REFERENCES college.class(cno)\n",
      "    \"teaches_tid_fkey\" FOREIGN KEY (tid) REFERENCES college.instructor(tid)\n",
      "\n"
     ]
    }
   ],
   "source": [
    "!psql -c \"\\d college.Teaches\""
   ]
  }
 ],
 "metadata": {
  "environment": {
   "kernel": "python3",
   "name": "common-cpu.m87",
   "type": "gcloud",
   "uri": "gcr.io/deeplearning-platform-release/base-cpu:m87"
  },
  "kernelspec": {
   "display_name": "Python 3",
   "language": "python",
   "name": "python3"
  },
  "language_info": {
   "codemirror_mode": {
    "name": "ipython",
    "version": 3
   },
   "file_extension": ".py",
   "mimetype": "text/x-python",
   "name": "python",
   "nbconvert_exporter": "python",
   "pygments_lexer": "ipython3",
   "version": "3.7.12"
  }
 },
 "nbformat": 4,
 "nbformat_minor": 4
}
