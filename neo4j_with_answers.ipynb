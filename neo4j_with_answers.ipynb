{
 "cells": [
  {
   "cell_type": "markdown",
   "metadata": {},
   "source": [
    "#### 1. Download the movie dataset from GCS:"
   ]
  },
  {
   "cell_type": "code",
   "execution_count": 1,
   "metadata": {},
   "outputs": [
    {
     "name": "stdout",
     "output_type": "stream",
     "text": [
      "env: BASE_DIR=/home/jupyter/prep\n"
     ]
    }
   ],
   "source": [
    "%env BASE_DIR=/home/jupyter/prep"
   ]
  },
  {
   "cell_type": "code",
   "execution_count": null,
   "metadata": {},
   "outputs": [],
   "source": [
    "!gsutil cp gs://cs327e-open-access/movies.cypher.zip $BASE_DIR"
   ]
  },
  {
   "cell_type": "code",
   "execution_count": null,
   "metadata": {},
   "outputs": [],
   "source": [
    "!unzip $BASE_DIR/movies.cypher.zip"
   ]
  },
  {
   "cell_type": "markdown",
   "metadata": {},
   "source": [
    "#### 2. Connect to the database and load the dataset:\n",
    "##### Note: Change the PW variable before running. "
   ]
  },
  {
   "cell_type": "code",
   "execution_count": 2,
   "metadata": {},
   "outputs": [
    {
     "name": "stdout",
     "output_type": "stream",
     "text": [
      "env: CYPHER=/home/jupyter/neo4j-community-4.3.3/bin/cypher-shell\n",
      "env: USER=neo4j\n",
      "env: PW=cs327e!\n"
     ]
    }
   ],
   "source": [
    "%env CYPHER=/home/jupyter/neo4j-community-4.3.3/bin/cypher-shell\n",
    "%env USER=neo4j\n",
    "%env PW=cs327e!"
   ]
  },
  {
   "cell_type": "code",
   "execution_count": 3,
   "metadata": {},
   "outputs": [],
   "source": [
    "CONNECT=\"$CYPHER -u $USER -p $PW\""
   ]
  },
  {
   "cell_type": "code",
   "execution_count": 4,
   "metadata": {},
   "outputs": [
    {
     "name": "stdout",
     "output_type": "stream",
     "text": [
      "+--------------------------------------------------------------------------------------------------------+\n",
      "| name     | address          | role         | requestedStatus | currentStatus | error | default | home  |\n",
      "+--------------------------------------------------------------------------------------------------------+\n",
      "| \"neo4j\"  | \"localhost:7687\" | \"standalone\" | \"online\"        | \"online\"      | \"\"    | TRUE    | TRUE  |\n",
      "| \"system\" | \"localhost:7687\" | \"standalone\" | \"online\"        | \"online\"      | \"\"    | FALSE   | FALSE |\n",
      "+--------------------------------------------------------------------------------------------------------+\n",
      "\n",
      "2 rows\n",
      "ready to start consuming query after 745 ms, results consumed after another 81 ms\n"
     ]
    }
   ],
   "source": [
    "!{CONNECT} \"SHOW DATABASES\""
   ]
  },
  {
   "cell_type": "code",
   "execution_count": 5,
   "metadata": {},
   "outputs": [
    {
     "name": "stdout",
     "output_type": "stream",
     "text": [
      "0 rows\n",
      "ready to start consuming query after 178 ms, results consumed after another 0 ms\n",
      "Deleted 171 nodes, Deleted 253 relationships\n"
     ]
    }
   ],
   "source": [
    "!{CONNECT} \"MATCH (n) DETACH DELETE n\""
   ]
  },
  {
   "cell_type": "code",
   "execution_count": 6,
   "metadata": {},
   "outputs": [
    {
     "name": "stdout",
     "output_type": "stream",
     "text": [
      "+---+\n",
      "| n |\n",
      "+---+\n",
      "+---+\n",
      "\n",
      "0 rows\n",
      "ready to start consuming query after 22 ms, results consumed after another 1 ms\n"
     ]
    }
   ],
   "source": [
    "!{CONNECT} \"MATCH (n) RETURN n\""
   ]
  },
  {
   "cell_type": "code",
   "execution_count": 7,
   "metadata": {},
   "outputs": [
    {
     "name": "stdout",
     "output_type": "stream",
     "text": [
      "a, m, d\n",
      "(:Person {name: \"Tom Hanks\", born: 1956}), (:Movie {tagline: \"In every life there comes a time when that thing you dream becomes that thing you do\", title: \"That Thing You Do\", released: 1996}), (:Person {name: \"Tom Hanks\", born: 1956})\n",
      "(:Person {name: \"Tom Hanks\", born: 1956}), (:Movie {tagline: \"Once in a lifetime you get a chance to do something different.\", title: \"A League of Their Own\", released: 1992}), (:Person {name: \"Penny Marshall\", born: 1943})\n",
      "(:Person {name: \"Tom Hanks\", born: 1956}), (:Movie {tagline: \"What if someone you never met, someone you never saw, someone you never knew was the only someone for you?\", title: \"Sleepless in Seattle\", released: 1993}), (:Person {name: \"Nora Ephron\", born: 1941})\n",
      "(:Person {name: \"Tom Hanks\", born: 1956}), (:Movie {tagline: \"A stiff drink. A little mascara. A lot of nerve. Who said they couldn't bring down the Soviet empire.\", title: \"Charlie Wilson's War\", released: 2007}), (:Person {name: \"Mike Nichols\", born: 1931})\n",
      "(:Person {name: \"Tom Hanks\", born: 1956}), (:Movie {tagline: \"At the edge of the world, his journey begins.\", title: \"Cast Away\", released: 2000}), (:Person {name: \"Robert Zemeckis\", born: 1951})\n",
      "(:Person {name: \"Tom Hanks\", born: 1956}), (:Movie {tagline: \"Walk a mile you'll never forget.\", title: \"The Green Mile\", released: 1999}), (:Person {name: \"Frank Darabont\", born: 1959})\n",
      "(:Person {name: \"Tom Hanks\", born: 1956}), (:Movie {tagline: \"Break The Codes\", title: \"The Da Vinci Code\", released: 2006}), (:Person {name: \"Ron Howard\", born: 1954})\n",
      "(:Person {name: \"Tom Hanks\", born: 1956}), (:Movie {tagline: \"This Holiday Season... Believe\", title: \"The Polar Express\", released: 2004}), (:Person {name: \"Robert Zemeckis\", born: 1951})\n",
      "(:Person {name: \"Tom Hanks\", born: 1956}), (:Movie {tagline: \"A story of love, lava and burning desire.\", title: \"Joe Versus the Volcano\", released: 1990}), (:Person {name: \"John Patrick Stanley\", born: 1950})\n",
      "(:Person {name: \"Tom Hanks\", born: 1956}), (:Movie {tagline: \"Everything is connected\", title: \"Cloud Atlas\", released: 2012}), (:Person {name: \"Tom Tykwer\", born: 1965})\n"
     ]
    }
   ],
   "source": [
    "!cat $BASE_DIR/movies.cypher | $CYPHER -u $USER -p $PW --format plain"
   ]
  },
  {
   "cell_type": "markdown",
   "metadata": {},
   "source": [
    "#### 3. Explore the data using cypher queries:"
   ]
  },
  {
   "cell_type": "code",
   "execution_count": 8,
   "metadata": {},
   "outputs": [
    {
     "name": "stdout",
     "output_type": "stream",
     "text": [
      "+-----------------------+\n",
      "| labels(n)  | count(n) |\n",
      "+-----------------------+\n",
      "| [\"Movie\"]  | 38       |\n",
      "| [\"Person\"] | 133      |\n",
      "+-----------------------+\n",
      "\n",
      "2 rows\n",
      "ready to start consuming query after 78 ms, results consumed after another 37 ms\n"
     ]
    }
   ],
   "source": [
    "!{CONNECT} \"MATCH (n) RETURN distinct labels(n), count(n)\""
   ]
  },
  {
   "cell_type": "code",
   "execution_count": 16,
   "metadata": {},
   "outputs": [
    {
     "name": "stdout",
     "output_type": "stream",
     "text": [
      "+----------------------------------------------------------------------------------------------------------------------------------------------------------------------------------------------------------------------------------------------+\n",
      "| n                                                                                                                                                                                                                                            |\n",
      "+----------------------------------------------------------------------------------------------------------------------------------------------------------------------------------------------------------------------------------------------+\n",
      "| (:Person {name: \"Joel Silver\", born: 1952})                                                                                                                                                                                                  |\n",
      "| (:Person {name: \"Emil Eifrem\", born: 1978})                                                                                                                                                                                                  |\n",
      "| (:Movie {tagline: \"Free your mind\", title: \"The Matrix Reloaded\", released: 2003})                                                                                                                                                           |\n",
      "| (:Movie {tagline: \"Everything that has a beginning has an end\", title: \"The Matrix Revolutions\", released: 2003})                                                                                                                            |\n",
      "| (:Movie {tagline: \"Evil has its winning ways\", title: \"The Devil's Advocate\", released: 1997})                                                                                                                                               |\n",
      "| (:Person {name: \"Charlize Theron\", born: 1975})                                                                                                                                                                                              |\n",
      "| (:Person {name: \"Al Pacino\", born: 1940})                                                                                                                                                                                                    |\n",
      "| (:Person {name: \"Taylor Hackford\", born: 1944})                                                                                                                                                                                              |\n",
      "| (:Movie {tagline: \"In the heart of the nation's capital, in a courthouse of the U.S. government, one man will stop at nothing to keep his honor, and one will stop at nothing to find the truth.\", title: \"A Few Good Men\", released: 1992}) |\n",
      "| (:Person {name: \"Tom Cruise\", born: 1962})                                                                                                                                                                                                   |\n",
      "+----------------------------------------------------------------------------------------------------------------------------------------------------------------------------------------------------------------------------------------------+\n",
      "\n",
      "10 rows\n",
      "ready to start consuming query after 21 ms, results consumed after another 2 ms\n"
     ]
    }
   ],
   "source": [
    "!{CONNECT} \"MATCH (n) RETURN n LIMIT 10\""
   ]
  },
  {
   "cell_type": "code",
   "execution_count": 17,
   "metadata": {},
   "outputs": [
    {
     "name": "stdout",
     "output_type": "stream",
     "text": [
      "+------------+\n",
      "| type(r)    |\n",
      "+------------+\n",
      "| \"PRODUCED\" |\n",
      "| \"ACTED_IN\" |\n",
      "| \"DIRECTED\" |\n",
      "| \"WROTE\"    |\n",
      "| \"FOLLOWS\"  |\n",
      "| \"REVIEWED\" |\n",
      "+------------+\n",
      "\n",
      "6 rows\n",
      "ready to start consuming query after 47 ms, results consumed after another 21 ms\n"
     ]
    }
   ],
   "source": [
    "!{CONNECT} \"MATCH ()-[r]->() RETURN distinct type(r) LIMIT 10\""
   ]
  },
  {
   "cell_type": "code",
   "execution_count": 18,
   "metadata": {},
   "outputs": [
    {
     "name": "stdout",
     "output_type": "stream",
     "text": [
      "+------------------------------------------------+\n",
      "| m.title                           | m.released |\n",
      "+------------------------------------------------+\n",
      "| \"One Flew Over the Cuckoo's Nest\" | 1975       |\n",
      "| \"Top Gun\"                         | 1986       |\n",
      "| \"Stand By Me\"                     | 1986       |\n",
      "| \"Joe Versus the Volcano\"          | 1990       |\n",
      "| \"A League of Their Own\"           | 1992       |\n",
      "| \"Hoffa\"                           | 1992       |\n",
      "| \"A Few Good Men\"                  | 1992       |\n",
      "| \"Unforgiven\"                      | 1992       |\n",
      "| \"Sleepless in Seattle\"            | 1993       |\n",
      "| \"Johnny Mnemonic\"                 | 1995       |\n",
      "+------------------------------------------------+\n",
      "\n",
      "10 rows\n",
      "ready to start consuming query after 46 ms, results consumed after another 3 ms\n"
     ]
    }
   ],
   "source": [
    "!{CONNECT} \"MATCH (m:Movie) RETURN m.title, m.released ORDER BY m.released LIMIT 10\""
   ]
  },
  {
   "cell_type": "code",
   "execution_count": 20,
   "metadata": {},
   "outputs": [
    {
     "name": "stdout",
     "output_type": "stream",
     "text": [
      "+---------------------------------------+\n",
      "| m.title                  | m.released |\n",
      "+---------------------------------------+\n",
      "| \"Johnny Mnemonic\"        | 1995       |\n",
      "| \"Apollo 13\"              | 1995       |\n",
      "| \"That Thing You Do\"      | 1996       |\n",
      "| \"The Birdcage\"           | 1996       |\n",
      "| \"Twister\"                | 1996       |\n",
      "| \"The Devil's Advocate\"   | 1997       |\n",
      "| \"As Good as It Gets\"     | 1997       |\n",
      "| \"What Dreams May Come\"   | 1998       |\n",
      "| \"You've Got Mail\"        | 1998       |\n",
      "| \"When Harry Met Sally\"   | 1998       |\n",
      "| \"The Matrix\"             | 1999       |\n",
      "| \"Snow Falling on Cedars\" | 1999       |\n",
      "| \"The Green Mile\"         | 1999       |\n",
      "| \"Bicentennial Man\"       | 1999       |\n",
      "| \"Jerry Maguire\"          | 2000       |\n",
      "| \"The Replacements\"       | 2000       |\n",
      "| \"Cast Away\"              | 2000       |\n",
      "+---------------------------------------+\n",
      "\n",
      "17 rows\n",
      "ready to start consuming query after 21 ms, results consumed after another 4 ms\n"
     ]
    }
   ],
   "source": [
    "!{CONNECT} \"MATCH (m:Movie) WHERE m.released >= 1995 AND m.released <= 2000 RETURN m.title, m.released ORDER BY m.released\""
   ]
  },
  {
   "cell_type": "markdown",
   "metadata": {},
   "source": [
    "#### Note the double curly braces {}"
   ]
  },
  {
   "cell_type": "code",
   "execution_count": 21,
   "metadata": {},
   "outputs": [
    {
     "name": "stdout",
     "output_type": "stream",
     "text": [
      "+--------------------------------------------------------------------------------------------------------------+\n",
      "| p                                                 | r                                                        |\n",
      "+--------------------------------------------------------------------------------------------------------------+\n",
      "| (:Person {name: \"Jerry O'Connell\", born: 1974})   | [:ACTED_IN {roles: [\"Frank Cushman\"]}]                   |\n",
      "| (:Person {name: \"Cameron Crowe\", born: 1957})     | [:PRODUCED]                                              |\n",
      "| (:Person {name: \"Bonnie Hunt\", born: 1961})       | [:ACTED_IN {roles: [\"Laurel Boyd\"]}]                     |\n",
      "| (:Person {name: \"Cameron Crowe\", born: 1957})     | [:DIRECTED]                                              |\n",
      "| (:Person {name: \"Jay Mohr\", born: 1970})          | [:ACTED_IN {roles: [\"Bob Sugar\"]}]                       |\n",
      "| (:Person {name: \"Cameron Crowe\", born: 1957})     | [:WROTE]                                                 |\n",
      "| (:Person {name: \"Cuba Gooding Jr.\", born: 1968})  | [:ACTED_IN {roles: [\"Rod Tidwell\"]}]                     |\n",
      "| (:Person {name: \"Jessica Thompson\"})              | [:REVIEWED {summary: \"You had me at Jerry\", rating: 92}] |\n",
      "| (:Person {name: \"Jonathan Lipnicki\", born: 1996}) | [:ACTED_IN {roles: [\"Ray Boyd\"]}]                        |\n",
      "| (:Person {name: \"Renee Zellweger\", born: 1969})   | [:ACTED_IN {roles: [\"Dorothy Boyd\"]}]                    |\n",
      "+--------------------------------------------------------------------------------------------------------------+\n",
      "\n",
      "10 rows\n",
      "ready to start consuming query after 34 ms, results consumed after another 3 ms\n"
     ]
    }
   ],
   "source": [
    "!{CONNECT} \"MATCH (p:Person)-[r]->(m:Movie {{title: 'Jerry Maguire'}}) RETURN p, r LIMIT 10;\""
   ]
  },
  {
   "cell_type": "code",
   "execution_count": 22,
   "metadata": {},
   "outputs": [
    {
     "name": "stdout",
     "output_type": "stream",
     "text": [
      "+---------------------------------------+\n",
      "| m.title                  | m.released |\n",
      "+---------------------------------------+\n",
      "| \"Joe Versus the Volcano\" | 1990       |\n",
      "| \"A League of Their Own\"  | 1992       |\n",
      "| \"Sleepless in Seattle\"   | 1993       |\n",
      "| \"Apollo 13\"              | 1995       |\n",
      "| \"That Thing You Do\"      | 1996       |\n",
      "| \"You've Got Mail\"        | 1998       |\n",
      "| \"The Green Mile\"         | 1999       |\n",
      "| \"Cast Away\"              | 2000       |\n",
      "| \"The Polar Express\"      | 2004       |\n",
      "| \"The Da Vinci Code\"      | 2006       |\n",
      "| \"Charlie Wilson's War\"   | 2007       |\n",
      "| \"Cloud Atlas\"            | 2012       |\n",
      "+---------------------------------------+\n",
      "\n",
      "12 rows\n",
      "ready to start consuming query after 47 ms, results consumed after another 3 ms\n"
     ]
    }
   ],
   "source": [
    "!{CONNECT} \"MATCH (t:Person {{name: 'Tom Hanks'}})-[:ACTED_IN]->(m) RETURN m.title, m.released ORDER BY m.released\""
   ]
  },
  {
   "cell_type": "markdown",
   "metadata": {},
   "source": [
    "#### Prompt 1: Which person directed the movie Apollo 13? Return the director's name."
   ]
  },
  {
   "cell_type": "code",
   "execution_count": 23,
   "metadata": {},
   "outputs": [
    {
     "name": "stdout",
     "output_type": "stream",
     "text": [
      "+--------------+\n",
      "| d.name       |\n",
      "+--------------+\n",
      "| \"Ron Howard\" |\n",
      "+--------------+\n",
      "\n",
      "1 row\n",
      "ready to start consuming query after 26 ms, results consumed after another 4 ms\n"
     ]
    }
   ],
   "source": [
    "!{CONNECT} \"MATCH (m {{title: 'Apollo 13'}})<-[:DIRECTED]-(d) RETURN d.name\""
   ]
  },
  {
   "cell_type": "code",
   "execution_count": 6,
   "metadata": {},
   "outputs": [
    {
     "name": "stdout",
     "output_type": "stream",
     "text": [
      "+--------------+\n",
      "| d.name       |\n",
      "+--------------+\n",
      "| \"Ron Howard\" |\n",
      "+--------------+\n",
      "\n",
      "1 row\n",
      "ready to start consuming query after 23 ms, results consumed after another 1 ms\n"
     ]
    }
   ],
   "source": [
    "!{CONNECT} \"MATCH (m)<-[:DIRECTED]-(d) where m.title = 'Apollo 13' RETURN d.name\""
   ]
  },
  {
   "cell_type": "markdown",
   "metadata": {},
   "source": [
    "#### Prompt 2: Which persons worked on the movie Jerry Maguire? Return their name and role in the movie. Limit result count to 10. "
   ]
  },
  {
   "cell_type": "code",
   "execution_count": 26,
   "metadata": {},
   "outputs": [
    {
     "name": "stdout",
     "output_type": "stream",
     "text": [
      "+------------------------------------------------------+\n",
      "| p.name              | type(r)    | r.roles           |\n",
      "+------------------------------------------------------+\n",
      "| \"Jerry O'Connell\"   | \"ACTED_IN\" | [\"Frank Cushman\"] |\n",
      "| \"Cameron Crowe\"     | \"PRODUCED\" | NULL              |\n",
      "| \"Bonnie Hunt\"       | \"ACTED_IN\" | [\"Laurel Boyd\"]   |\n",
      "| \"Cameron Crowe\"     | \"DIRECTED\" | NULL              |\n",
      "| \"Jay Mohr\"          | \"ACTED_IN\" | [\"Bob Sugar\"]     |\n",
      "| \"Cameron Crowe\"     | \"WROTE\"    | NULL              |\n",
      "| \"Cuba Gooding Jr.\"  | \"ACTED_IN\" | [\"Rod Tidwell\"]   |\n",
      "| \"Jessica Thompson\"  | \"REVIEWED\" | NULL              |\n",
      "| \"Jonathan Lipnicki\" | \"ACTED_IN\" | [\"Ray Boyd\"]      |\n",
      "| \"Renee Zellweger\"   | \"ACTED_IN\" | [\"Dorothy Boyd\"]  |\n",
      "+------------------------------------------------------+\n",
      "\n",
      "10 rows\n",
      "ready to start consuming query after 39 ms, results consumed after another 2 ms\n"
     ]
    }
   ],
   "source": [
    "!{CONNECT} \"MATCH (p:Person)-[r]->(:Movie {{title: 'Jerry Maguire'}}) RETURN p.name, type(r), r.roles LIMIT 10\""
   ]
  },
  {
   "cell_type": "markdown",
   "metadata": {},
   "source": [
    "#### Prompt 3: Which persons acted in the movie Jerry Maguire? Return their name and role in the movie. \n",
    "#### Hint: use the relationship type: `ACTED_IN`."
   ]
  },
  {
   "cell_type": "code",
   "execution_count": 27,
   "metadata": {},
   "outputs": [
    {
     "name": "stdout",
     "output_type": "stream",
     "text": [
      "+-------------------------------------------------------+\n",
      "| p.name              | type(r)    | r.roles            |\n",
      "+-------------------------------------------------------+\n",
      "| \"Jerry O'Connell\"   | \"ACTED_IN\" | [\"Frank Cushman\"]  |\n",
      "| \"Bonnie Hunt\"       | \"ACTED_IN\" | [\"Laurel Boyd\"]    |\n",
      "| \"Jay Mohr\"          | \"ACTED_IN\" | [\"Bob Sugar\"]      |\n",
      "| \"Cuba Gooding Jr.\"  | \"ACTED_IN\" | [\"Rod Tidwell\"]    |\n",
      "| \"Jonathan Lipnicki\" | \"ACTED_IN\" | [\"Ray Boyd\"]       |\n",
      "| \"Renee Zellweger\"   | \"ACTED_IN\" | [\"Dorothy Boyd\"]   |\n",
      "| \"Kelly Preston\"     | \"ACTED_IN\" | [\"Avery Bishop\"]   |\n",
      "| \"Regina King\"       | \"ACTED_IN\" | [\"Marcee Tidwell\"] |\n",
      "| \"Tom Cruise\"        | \"ACTED_IN\" | [\"Jerry Maguire\"]  |\n",
      "+-------------------------------------------------------+\n",
      "\n",
      "9 rows\n",
      "ready to start consuming query after 39 ms, results consumed after another 2 ms\n"
     ]
    }
   ],
   "source": [
    "!{CONNECT} \"MATCH (p:Person)-[r:ACTED_IN]->(:Movie {{title: 'Jerry Maguire'}}) RETURN p.name, type(r), r.roles\""
   ]
  },
  {
   "cell_type": "markdown",
   "metadata": {},
   "source": [
    "#### Prompt 4: Which persons acted in a movie with Kevin Bacon? Return the movie's title, Kevin Bacon's role and the other person's role in the same movie. Limit result count to 10. "
   ]
  },
  {
   "cell_type": "code",
   "execution_count": 12,
   "metadata": {},
   "outputs": [
    {
     "name": "stdout",
     "output_type": "stream",
     "text": [
      "+------------------------------------------------------------------------------------+\n",
      "| m.title          | kb_role             | p2.name          | r2.roles               |\n",
      "+------------------------------------------------------------------------------------+\n",
      "| \"Apollo 13\"      | [\"Jack Swigert\"]    | \"Tom Hanks\"      | [\"Jim Lovell\"]         |\n",
      "| \"Apollo 13\"      | [\"Jack Swigert\"]    | \"Ed Harris\"      | [\"Gene Kranz\"]         |\n",
      "| \"Apollo 13\"      | [\"Jack Swigert\"]    | \"Gary Sinise\"    | [\"Ken Mattingly\"]      |\n",
      "| \"Apollo 13\"      | [\"Jack Swigert\"]    | \"Bill Paxton\"    | [\"Fred Haise\"]         |\n",
      "| \"Frost/Nixon\"    | [\"Jack Brennan\"]    | \"Sam Rockwell\"   | [\"James Reston, Jr.\"]  |\n",
      "| \"Frost/Nixon\"    | [\"Jack Brennan\"]    | \"Michael Sheen\"  | [\"David Frost\"]        |\n",
      "| \"Frost/Nixon\"    | [\"Jack Brennan\"]    | \"Frank Langella\" | [\"Richard Nixon\"]      |\n",
      "| \"Frost/Nixon\"    | [\"Jack Brennan\"]    | \"Oliver Platt\"   | [\"Bob Zelnick\"]        |\n",
      "| \"A Few Good Men\" | [\"Capt. Jack Ross\"] | \"James Marshall\" | [\"Pfc. Louden Downey\"] |\n",
      "| \"A Few Good Men\" | [\"Capt. Jack Ross\"] | \"Kevin Pollak\"   | [\"Lt. Sam Weinberg\"]   |\n",
      "+------------------------------------------------------------------------------------+\n",
      "\n",
      "10 rows\n",
      "ready to start consuming query after 63 ms, results consumed after another 3 ms\n"
     ]
    }
   ],
   "source": [
    "!{CONNECT} \"MATCH (p1:Person {{name: 'Kevin Bacon'}})-[r:ACTED_IN]->(m:Movie)<-[r2:ACTED_IN]-(p2:Person) RETURN m.title, r.roles as kb_role, p2.name, r2.roles LIMIT 10\""
   ]
  },
  {
   "cell_type": "markdown",
   "metadata": {},
   "source": [
    "#### Unfortunately, the Community Edition doesn't let us create multiple databases. You'll need to delete the movie graph before creating a different graph in our database. To delete the graph, use this command:\n",
    "\n",
    "`!{CONNECT} \"MATCH (n) DETACH DELETE n\"`"
   ]
  },
  {
   "cell_type": "code",
   "execution_count": 29,
   "metadata": {},
   "outputs": [
    {
     "name": "stdout",
     "output_type": "stream",
     "text": [
      "0 rows\n",
      "ready to start consuming query after 43 ms, results consumed after another 0 ms\n",
      "Deleted 171 nodes, Deleted 253 relationships\n"
     ]
    }
   ],
   "source": [
    "!{CONNECT} \"MATCH (n) DETACH DELETE n\""
   ]
  },
  {
   "cell_type": "code",
   "execution_count": 30,
   "metadata": {},
   "outputs": [
    {
     "name": "stdout",
     "output_type": "stream",
     "text": [
      "+---+\n",
      "| n |\n",
      "+---+\n",
      "+---+\n",
      "\n",
      "0 rows\n",
      "ready to start consuming query after 2 ms, results consumed after another 1 ms\n"
     ]
    }
   ],
   "source": [
    "!{CONNECT} \"MATCH (n) RETURN n\""
   ]
  }
 ],
 "metadata": {
  "environment": {
   "kernel": "python3",
   "name": "common-cpu.m87",
   "type": "gcloud",
   "uri": "gcr.io/deeplearning-platform-release/base-cpu:m87"
  },
  "kernelspec": {
   "display_name": "Python 3",
   "language": "python",
   "name": "python3"
  },
  "language_info": {
   "codemirror_mode": {
    "name": "ipython",
    "version": 3
   },
   "file_extension": ".py",
   "mimetype": "text/x-python",
   "name": "python",
   "nbconvert_exporter": "python",
   "pygments_lexer": "ipython3",
   "version": "3.7.12"
  }
 },
 "nbformat": 4,
 "nbformat_minor": 4
}
