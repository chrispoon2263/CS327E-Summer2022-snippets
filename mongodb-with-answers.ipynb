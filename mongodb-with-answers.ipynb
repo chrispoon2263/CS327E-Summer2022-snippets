{
 "cells": [
  {
   "cell_type": "markdown",
   "metadata": {},
   "source": [
    "#### 1. Download the MOMA dataset "
   ]
  },
  {
   "cell_type": "code",
   "execution_count": null,
   "metadata": {},
   "outputs": [],
   "source": [
    "%env BASE_DIR=/home/jupyter/snippets"
   ]
  },
  {
   "cell_type": "code",
   "execution_count": null,
   "metadata": {},
   "outputs": [],
   "source": [
    "!gsutil cp gs://cs327e-open-access/moma.zip $BASE_DIR"
   ]
  },
  {
   "cell_type": "code",
   "execution_count": null,
   "metadata": {},
   "outputs": [],
   "source": [
    "!unzip $BASE_DIR/moma.zip"
   ]
  },
  {
   "cell_type": "markdown",
   "metadata": {},
   "source": [
    "### Step 2. Import data into a new database `moma`"
   ]
  },
  {
   "cell_type": "code",
   "execution_count": null,
   "metadata": {},
   "outputs": [],
   "source": [
    "!mongoimport --db moma --collection Artists < $BASE_DIR/moma/Artists.json --jsonArray"
   ]
  },
  {
   "cell_type": "code",
   "execution_count": null,
   "metadata": {},
   "outputs": [],
   "source": [
    "!mongoimport --db moma --collection Artworks < $BASE_DIR/moma/Artworks.json --jsonArray"
   ]
  },
  {
   "cell_type": "markdown",
   "metadata": {},
   "source": [
    "#### 2. Retrieve a random document from both collections"
   ]
  },
  {
   "cell_type": "code",
   "execution_count": null,
   "metadata": {},
   "outputs": [],
   "source": [
    "!mongo moma --quiet --eval 'db.Artists.findOne()'"
   ]
  },
  {
   "cell_type": "code",
   "execution_count": null,
   "metadata": {},
   "outputs": [],
   "source": [
    "!mongo moma --quiet --eval 'db.Artworks.findOne()'"
   ]
  },
  {
   "cell_type": "markdown",
   "metadata": {},
   "source": [
    "#### 3. Run some queries with `count()`"
   ]
  },
  {
   "cell_type": "code",
   "execution_count": null,
   "metadata": {},
   "outputs": [],
   "source": [
    "!mongo moma --quiet --eval 'db.Artists.count()'"
   ]
  },
  {
   "cell_type": "code",
   "execution_count": null,
   "metadata": {},
   "outputs": [],
   "source": [
    "!mongo moma --quiet --eval 'db.Artworks.count()'"
   ]
  },
  {
   "cell_type": "code",
   "execution_count": null,
   "metadata": {},
   "outputs": [],
   "source": [
    "!mongo moma --quiet --eval 'db.Artists.count({\"Gender\": \"Male\"})'"
   ]
  },
  {
   "cell_type": "code",
   "execution_count": null,
   "metadata": {},
   "outputs": [],
   "source": [
    "!mongo moma --quiet --eval 'db.Artists.count({\"$or\": [{Gender: \"Male\"}, {Gender: \"male\"}]})'"
   ]
  },
  {
   "cell_type": "code",
   "execution_count": null,
   "metadata": {},
   "outputs": [],
   "source": [
    "!mongo moma --quiet --eval 'db.Artists.count({\"Gender\": \"Female\"})'"
   ]
  },
  {
   "cell_type": "code",
   "execution_count": null,
   "metadata": {},
   "outputs": [],
   "source": [
    "!mongo moma --quiet --eval 'db.Artists.count({\"$or\": [{Gender: \"Female\"}, {Gender: \"female\"}]})'"
   ]
  },
  {
   "cell_type": "code",
   "execution_count": null,
   "metadata": {},
   "outputs": [],
   "source": [
    "!mongo moma --quiet --eval 'db.Artists.distinct(\"Nationality\").length'"
   ]
  },
  {
   "cell_type": "markdown",
   "metadata": {},
   "source": [
    "#### 4. Return a random artist, projecting only the fields `DisplayName` and `Nationality` "
   ]
  },
  {
   "cell_type": "code",
   "execution_count": null,
   "metadata": {},
   "outputs": [],
   "source": [
    "!mongo moma --quiet --eval 'db.Artists.findOne({}, {\"DisplayName\": 1, \"Nationality\": 1})'"
   ]
  },
  {
   "cell_type": "markdown",
   "metadata": {},
   "source": [
    "#### 5. Return two artists whose `nationality` = `American`.  Sort by `DisplayName`. "
   ]
  },
  {
   "cell_type": "code",
   "execution_count": null,
   "metadata": {},
   "outputs": [],
   "source": [
    "%env selection = {\"Nationality\": \"American\"}"
   ]
  },
  {
   "cell_type": "code",
   "execution_count": null,
   "metadata": {},
   "outputs": [],
   "source": [
    "!mongo moma --quiet --eval \"db.Artists.find(${selection}, {}).sort({DisplayName: 1}).limit(2).pretty()\""
   ]
  },
  {
   "cell_type": "markdown",
   "metadata": {},
   "source": [
    "#### Prompt 1: Return the artworks by Andy Warhol. Hint: Use the field `Artist` to look up his works. Project the fields `Artist`, `Title`, `Classification`, and `Date`. Sort by `Date` in descending order using `sort({Date: -1})`. Limit the results to 3 documents. "
   ]
  },
  {
   "cell_type": "code",
   "execution_count": null,
   "metadata": {},
   "outputs": [],
   "source": [
    "%env selection = {\"Artist\": \"Andy Warhol\"}"
   ]
  },
  {
   "cell_type": "code",
   "execution_count": null,
   "metadata": {},
   "outputs": [],
   "source": [
    "%env projection = {\"Artist\": 1, \"Title\": 1, \"Classification\": 1, \"Date\": 1}"
   ]
  },
  {
   "cell_type": "code",
   "execution_count": null,
   "metadata": {},
   "outputs": [],
   "source": [
    "!mongo moma --quiet --eval \"db.Artworks.find(${selection}, ${projection}).sort({Date: -1}).limit(3).pretty()\""
   ]
  },
  {
   "cell_type": "markdown",
   "metadata": {},
   "source": [
    "#### Prompt 2: Find the bug in the query below and fix it. "
   ]
  },
  {
   "cell_type": "code",
   "execution_count": null,
   "metadata": {},
   "outputs": [],
   "source": [
    "%env selection = {\"BeginDate\": {$gte: 1700}, \"BeginDate\": {$lte: 1800}}"
   ]
  },
  {
   "cell_type": "code",
   "execution_count": null,
   "metadata": {},
   "outputs": [],
   "source": [
    "%env projection = {}"
   ]
  },
  {
   "cell_type": "code",
   "execution_count": null,
   "metadata": {},
   "outputs": [],
   "source": [
    "!mongo moma --quiet --eval \"db.Artists.find(${selection}, ${projection}).sort({BeginDate: 1}).limit(3).pretty()\""
   ]
  },
  {
   "cell_type": "code",
   "execution_count": null,
   "metadata": {},
   "outputs": [],
   "source": [
    "%env selection = {\"BeginDate\": {$gte: 1700, $lte: 1800}}"
   ]
  },
  {
   "cell_type": "code",
   "execution_count": null,
   "metadata": {},
   "outputs": [],
   "source": [
    "%env projection = {}"
   ]
  },
  {
   "cell_type": "code",
   "execution_count": null,
   "metadata": {},
   "outputs": [],
   "source": [
    "!mongo moma --quiet --eval \"db.Artists.find(${selection}, ${projection}).sort({BeginDate: 1}).limit(3).pretty()\""
   ]
  },
  {
   "cell_type": "markdown",
   "metadata": {},
   "source": [
    "#### Prompt 3: Run the 3 queries below and add a short comment to describe their function"
   ]
  },
  {
   "cell_type": "code",
   "execution_count": null,
   "metadata": {},
   "outputs": [],
   "source": [
    "!mongo moma --quiet --eval 'db.Artworks.find({Artist: {$in: [\"Yoko Ono\", \"John Lennon\"]}}, {Artist:1, Title:1, Classification:1}).limit(3).pretty()'"
   ]
  },
  {
   "cell_type": "code",
   "execution_count": null,
   "metadata": {},
   "outputs": [],
   "source": [
    "!mongo moma --quiet --eval 'db.Artworks.find({Artist: {$all: [\"Yoko Ono\", \"John Lennon\"]}}, {Artist:1, Title:1, Classification:1}).limit(3).pretty()'"
   ]
  },
  {
   "cell_type": "code",
   "execution_count": null,
   "metadata": {},
   "outputs": [],
   "source": [
    "!mongo moma --quiet --eval 'db.Artworks.find({Artist: {$nin: [\"Yoko Ono\", \"John Lennon\"]}}, {Artist:1, Title:1, Classification:1}).limit(3).pretty()'"
   ]
  },
  {
   "cell_type": "markdown",
   "metadata": {},
   "source": [
    "#### Find the artworks by either Yoko Ono or John Lennon"
   ]
  },
  {
   "cell_type": "markdown",
   "metadata": {},
   "source": [
    "#### Find the artworks by both Yoko Ono or John Lennon"
   ]
  },
  {
   "cell_type": "markdown",
   "metadata": {},
   "source": [
    "#### Find the artworks by neither Yoko Ono or John Lennon"
   ]
  }
 ],
 "metadata": {
  "environment": {
   "kernel": "python3",
   "name": "common-cpu.m87",
   "type": "gcloud",
   "uri": "gcr.io/deeplearning-platform-release/base-cpu:m87"
  },
  "kernelspec": {
   "display_name": "Python 3",
   "language": "python",
   "name": "python3"
  },
  "language_info": {
   "codemirror_mode": {
    "name": "ipython",
    "version": 3
   },
   "file_extension": ".py",
   "mimetype": "text/x-python",
   "name": "python",
   "nbconvert_exporter": "python",
   "pygments_lexer": "ipython3",
   "version": "3.7.12"
  }
 },
 "nbformat": 4,
 "nbformat_minor": 4
}
